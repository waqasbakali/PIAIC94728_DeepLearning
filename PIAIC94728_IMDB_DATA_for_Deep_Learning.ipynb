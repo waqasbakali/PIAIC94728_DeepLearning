{
  "nbformat": 4,
  "nbformat_minor": 0,
  "metadata": {
    "colab": {
      "name": "IMDB-reviews.ipynb",
      "provenance": [],
      "collapsed_sections": []
    },
    "kernelspec": {
      "display_name": "Python 3",
      "name": "python3"
    }
  },
  "cells": [
    {
      "cell_type": "code",
      "metadata": {
        "colab": {
          "base_uri": "https://localhost:8080/"
        },
        "id": "xiIok5b0Ir6A",
        "outputId": "24bcc5b2-e5a7-43e6-8bd6-1ff3f490e776"
      },
      "source": [
        "from keras.datasets import imdb\n",
        "(train_data, train_labels), (test_data, test_labels) = imdb.load_data(\n",
        "num_words=20000)"
      ],
      "execution_count": 64,
      "outputs": [
        {
          "output_type": "stream",
          "text": [
            "<string>:6: VisibleDeprecationWarning: Creating an ndarray from ragged nested sequences (which is a list-or-tuple of lists-or-tuples-or ndarrays with different lengths or shapes) is deprecated. If you meant to do this, you must specify 'dtype=object' when creating the ndarray\n",
            "/usr/local/lib/python3.7/dist-packages/tensorflow/python/keras/datasets/imdb.py:159: VisibleDeprecationWarning: Creating an ndarray from ragged nested sequences (which is a list-or-tuple of lists-or-tuples-or ndarrays with different lengths or shapes) is deprecated. If you meant to do this, you must specify 'dtype=object' when creating the ndarray\n",
            "  x_train, y_train = np.array(xs[:idx]), np.array(labels[:idx])\n",
            "/usr/local/lib/python3.7/dist-packages/tensorflow/python/keras/datasets/imdb.py:160: VisibleDeprecationWarning: Creating an ndarray from ragged nested sequences (which is a list-or-tuple of lists-or-tuples-or ndarrays with different lengths or shapes) is deprecated. If you meant to do this, you must specify 'dtype=object' when creating the ndarray\n",
            "  x_test, y_test = np.array(xs[idx:]), np.array(labels[idx:])\n"
          ],
          "name": "stderr"
        }
      ]
    },
    {
      "cell_type": "code",
      "metadata": {
        "colab": {
          "base_uri": "https://localhost:8080/",
          "height": 202
        },
        "id": "nkKGPq8nJKmx",
        "outputId": "a3ad8a2a-9a6c-4dcb-db09-a7d8bc3d7c7b"
      },
      "source": [
        "train_data[0].index(2)\n",
        "# print(\"///////////////////////\")\n",
        "# print(\"the review label is : \",train_labels[0])\n"
      ],
      "execution_count": 63,
      "outputs": [
        {
          "output_type": "error",
          "ename": "ValueError",
          "evalue": "ignored",
          "traceback": [
            "\u001b[0;31m---------------------------------------------------------------------------\u001b[0m",
            "\u001b[0;31mValueError\u001b[0m                                Traceback (most recent call last)",
            "\u001b[0;32m<ipython-input-63-cc79555c9fda>\u001b[0m in \u001b[0;36m<module>\u001b[0;34m()\u001b[0m\n\u001b[0;32m----> 1\u001b[0;31m \u001b[0mtrain_data\u001b[0m\u001b[0;34m[\u001b[0m\u001b[0;36m0\u001b[0m\u001b[0;34m]\u001b[0m\u001b[0;34m.\u001b[0m\u001b[0mindex\u001b[0m\u001b[0;34m(\u001b[0m\u001b[0;36m2\u001b[0m\u001b[0;34m)\u001b[0m\u001b[0;34m\u001b[0m\u001b[0;34m\u001b[0m\u001b[0m\n\u001b[0m\u001b[1;32m      2\u001b[0m \u001b[0;31m# print(\"///////////////////////\")\u001b[0m\u001b[0;34m\u001b[0m\u001b[0;34m\u001b[0m\u001b[0;34m\u001b[0m\u001b[0m\n\u001b[1;32m      3\u001b[0m \u001b[0;31m# print(\"the review label is : \",train_labels[0])\u001b[0m\u001b[0;34m\u001b[0m\u001b[0;34m\u001b[0m\u001b[0;34m\u001b[0m\u001b[0m\n",
            "\u001b[0;31mValueError\u001b[0m: 2 is not in list"
          ]
        }
      ]
    },
    {
      "cell_type": "code",
      "metadata": {
        "colab": {
          "base_uri": "https://localhost:8080/"
        },
        "id": "0LdOaUyFJTxj",
        "outputId": "8f4723de-60db-4911-a352-b4b36d9ef619"
      },
      "source": [
        "max([max(x) for x in train_data])"
      ],
      "execution_count": 4,
      "outputs": [
        {
          "output_type": "execute_result",
          "data": {
            "text/plain": [
              "9999"
            ]
          },
          "metadata": {
            "tags": []
          },
          "execution_count": 4
        }
      ]
    },
    {
      "cell_type": "code",
      "metadata": {
        "colab": {
          "base_uri": "https://localhost:8080/"
        },
        "id": "8yC_IJ3liivp",
        "outputId": "5d0a45d2-4f41-471c-f712-7a2d70bd5e1c"
      },
      "source": [
        "min([min(x) for x in train_data])"
      ],
      "execution_count": 7,
      "outputs": [
        {
          "output_type": "execute_result",
          "data": {
            "text/plain": [
              "1"
            ]
          },
          "metadata": {
            "tags": []
          },
          "execution_count": 7
        }
      ]
    },
    {
      "cell_type": "code",
      "metadata": {
        "id": "oPyQ5XJbNyWP"
      },
      "source": [
        ""
      ],
      "execution_count": null,
      "outputs": []
    },
    {
      "cell_type": "code",
      "metadata": {
        "colab": {
          "base_uri": "https://localhost:8080/"
        },
        "id": "Isf2w1S7JmrY",
        "outputId": "e18fd1b3-03c2-499f-92b3-dad7f323d584"
      },
      "source": [
        "[max(x) for x in train_data].index(max([max(x) for x in train_data]))"
      ],
      "execution_count": 8,
      "outputs": [
        {
          "output_type": "execute_result",
          "data": {
            "text/plain": [
              "769"
            ]
          },
          "metadata": {
            "tags": []
          },
          "execution_count": 8
        }
      ]
    },
    {
      "cell_type": "markdown",
      "metadata": {
        "id": "F6jd68qyOFiP"
      },
      "source": [
        "Every index value is offset by 3, so “the” maps to 4, not 1. The idea is that this allows 0 to be used for padding so all reviews can be made to have the same length, 1 is used as a start-of-review indicator, and 2 is used for out-of-vocabulary (unknown) words."
      ]
    },
    {
      "cell_type": "code",
      "metadata": {
        "id": "RNysbJ9tAKQl"
      },
      "source": [
        "# {'is':1, 'you':2, 'movie':3, 'excellent':4}"
      ],
      "execution_count": null,
      "outputs": []
    },
    {
      "cell_type": "code",
      "metadata": {
        "colab": {
          "base_uri": "https://localhost:8080/"
        },
        "id": "anCcouLvG5r7",
        "outputId": "7acfc9ab-10b1-4e47-e816-3c7147924b0c"
      },
      "source": [
        "len(train_data[])"
      ],
      "execution_count": 31,
      "outputs": [
        {
          "output_type": "execute_result",
          "data": {
            "text/plain": [
              "302"
            ]
          },
          "metadata": {
            "tags": []
          },
          "execution_count": 31
        }
      ]
    },
    {
      "cell_type": "code",
      "metadata": {
        "id": "5u0GBPD6KY1g"
      },
      "source": [
        "word_index = imdb.get_word_index()\n",
        "reverse_word_index = dict(\n",
        "[(value, key) for (key, value) in word_index.items()])\n",
        "decoded_review = ' '.join(\n",
        "[reverse_word_index.get(i - 3, '?') for i in train_data[0]])"
      ],
      "execution_count": 65,
      "outputs": []
    },
    {
      "cell_type": "code",
      "metadata": {
        "colab": {
          "base_uri": "https://localhost:8080/",
          "height": 176
        },
        "id": "aE2RNh7Xiqkc",
        "outputId": "f1aa28ef-6697-45f3-9124-9dda9ccb129f"
      },
      "source": [
        "decoded_review"
      ],
      "execution_count": 66,
      "outputs": [
        {
          "output_type": "execute_result",
          "data": {
            "application/vnd.google.colaboratory.intrinsic+json": {
              "type": "string"
            },
            "text/plain": [
              "\"? this film was just brilliant casting location scenery story direction everyone's really suited the part they played and you could just imagine being there robert ? is an amazing actor and now the same being director ? father came from the same scottish island as myself so i loved the fact there was a real connection with this film the witty remarks throughout the film were great it was just brilliant so much that i bought the film as soon as it was released for retail and would recommend it to everyone to watch and the fly fishing was amazing really cried at the end it was so sad and you know what they say if you cry at a film it must have been good and this definitely was also congratulations to the two little boy's that played the ? of norman and paul they were just brilliant children are often left out of the praising list i think because the stars that play them all grown up are such a big profile for the whole film but these children are amazing and should be praised for what they have done don't you think the whole story was so lovely because it was true and was someone's life after all that was shared with us all\""
            ]
          },
          "metadata": {
            "tags": []
          },
          "execution_count": 66
        }
      ]
    },
    {
      "cell_type": "code",
      "metadata": {
        "colab": {
          "base_uri": "https://localhost:8080/"
        },
        "id": "NmzZKxVuiStD",
        "outputId": "c0f83504-626a-4426-97c7-f2f29bcab206"
      },
      "source": [
        "train_data[0][0:10]"
      ],
      "execution_count": 12,
      "outputs": [
        {
          "output_type": "execute_result",
          "data": {
            "text/plain": [
              "[1, 14, 22, 16, 43, 530, 973, 1622, 1385, 65]"
            ]
          },
          "metadata": {
            "tags": []
          },
          "execution_count": 12
        }
      ]
    },
    {
      "cell_type": "code",
      "metadata": {
        "id": "q7RL7Lwqkm5G"
      },
      "source": [
        "# reverse_word_index.get(11)"
      ],
      "execution_count": null,
      "outputs": []
    },
    {
      "cell_type": "code",
      "metadata": {
        "colab": {
          "base_uri": "https://localhost:8080/"
        },
        "id": "r44WtuJMfML4",
        "outputId": "9852079c-38af-438d-bdf9-2e0b934187e6"
      },
      "source": [
        "for i in train_data[0]:\n",
        "  print(i)\n",
        "  print(reverse_word_index.get(i -3 , '?')) # padding, out of vocabalary , sequnece"
      ],
      "execution_count": 15,
      "outputs": [
        {
          "output_type": "stream",
          "text": [
            "1\n",
            "?\n",
            "14\n",
            "this\n",
            "22\n",
            "film\n",
            "16\n",
            "was\n",
            "43\n",
            "just\n",
            "530\n",
            "brilliant\n",
            "973\n",
            "casting\n",
            "1622\n",
            "location\n",
            "1385\n",
            "scenery\n",
            "65\n",
            "story\n",
            "458\n",
            "direction\n",
            "4468\n",
            "everyone's\n",
            "66\n",
            "really\n",
            "3941\n",
            "suited\n",
            "4\n",
            "the\n",
            "173\n",
            "part\n",
            "36\n",
            "they\n",
            "256\n",
            "played\n",
            "5\n",
            "and\n",
            "25\n",
            "you\n",
            "100\n",
            "could\n",
            "43\n",
            "just\n",
            "838\n",
            "imagine\n",
            "112\n",
            "being\n",
            "50\n",
            "there\n",
            "670\n",
            "robert\n",
            "2\n",
            "?\n",
            "9\n",
            "is\n",
            "35\n",
            "an\n",
            "480\n",
            "amazing\n",
            "284\n",
            "actor\n",
            "5\n",
            "and\n",
            "150\n",
            "now\n",
            "4\n",
            "the\n",
            "172\n",
            "same\n",
            "112\n",
            "being\n",
            "167\n",
            "director\n",
            "2\n",
            "?\n",
            "336\n",
            "father\n",
            "385\n",
            "came\n",
            "39\n",
            "from\n",
            "4\n",
            "the\n",
            "172\n",
            "same\n",
            "4536\n",
            "scottish\n",
            "1111\n",
            "island\n",
            "17\n",
            "as\n",
            "546\n",
            "myself\n",
            "38\n",
            "so\n",
            "13\n",
            "i\n",
            "447\n",
            "loved\n",
            "4\n",
            "the\n",
            "192\n",
            "fact\n",
            "50\n",
            "there\n",
            "16\n",
            "was\n",
            "6\n",
            "a\n",
            "147\n",
            "real\n",
            "2025\n",
            "connection\n",
            "19\n",
            "with\n",
            "14\n",
            "this\n",
            "22\n",
            "film\n",
            "4\n",
            "the\n",
            "1920\n",
            "witty\n",
            "4613\n",
            "remarks\n",
            "469\n",
            "throughout\n",
            "4\n",
            "the\n",
            "22\n",
            "film\n",
            "71\n",
            "were\n",
            "87\n",
            "great\n",
            "12\n",
            "it\n",
            "16\n",
            "was\n",
            "43\n",
            "just\n",
            "530\n",
            "brilliant\n",
            "38\n",
            "so\n",
            "76\n",
            "much\n",
            "15\n",
            "that\n",
            "13\n",
            "i\n",
            "1247\n",
            "bought\n",
            "4\n",
            "the\n",
            "22\n",
            "film\n",
            "17\n",
            "as\n",
            "515\n",
            "soon\n",
            "17\n",
            "as\n",
            "12\n",
            "it\n",
            "16\n",
            "was\n",
            "626\n",
            "released\n",
            "18\n",
            "for\n",
            "2\n",
            "?\n",
            "5\n",
            "and\n",
            "62\n",
            "would\n",
            "386\n",
            "recommend\n",
            "12\n",
            "it\n",
            "8\n",
            "to\n",
            "316\n",
            "everyone\n",
            "8\n",
            "to\n",
            "106\n",
            "watch\n",
            "5\n",
            "and\n",
            "4\n",
            "the\n",
            "2223\n",
            "fly\n",
            "5244\n",
            "fishing\n",
            "16\n",
            "was\n",
            "480\n",
            "amazing\n",
            "66\n",
            "really\n",
            "3785\n",
            "cried\n",
            "33\n",
            "at\n",
            "4\n",
            "the\n",
            "130\n",
            "end\n",
            "12\n",
            "it\n",
            "16\n",
            "was\n",
            "38\n",
            "so\n",
            "619\n",
            "sad\n",
            "5\n",
            "and\n",
            "25\n",
            "you\n",
            "124\n",
            "know\n",
            "51\n",
            "what\n",
            "36\n",
            "they\n",
            "135\n",
            "say\n",
            "48\n",
            "if\n",
            "25\n",
            "you\n",
            "1415\n",
            "cry\n",
            "33\n",
            "at\n",
            "6\n",
            "a\n",
            "22\n",
            "film\n",
            "12\n",
            "it\n",
            "215\n",
            "must\n",
            "28\n",
            "have\n",
            "77\n",
            "been\n",
            "52\n",
            "good\n",
            "5\n",
            "and\n",
            "14\n",
            "this\n",
            "407\n",
            "definitely\n",
            "16\n",
            "was\n",
            "82\n",
            "also\n",
            "2\n",
            "?\n",
            "8\n",
            "to\n",
            "4\n",
            "the\n",
            "107\n",
            "two\n",
            "117\n",
            "little\n",
            "5952\n",
            "boy's\n",
            "15\n",
            "that\n",
            "256\n",
            "played\n",
            "4\n",
            "the\n",
            "2\n",
            "?\n",
            "7\n",
            "of\n",
            "3766\n",
            "norman\n",
            "5\n",
            "and\n",
            "723\n",
            "paul\n",
            "36\n",
            "they\n",
            "71\n",
            "were\n",
            "43\n",
            "just\n",
            "530\n",
            "brilliant\n",
            "476\n",
            "children\n",
            "26\n",
            "are\n",
            "400\n",
            "often\n",
            "317\n",
            "left\n",
            "46\n",
            "out\n",
            "7\n",
            "of\n",
            "4\n",
            "the\n",
            "2\n",
            "?\n",
            "1029\n",
            "list\n",
            "13\n",
            "i\n",
            "104\n",
            "think\n",
            "88\n",
            "because\n",
            "4\n",
            "the\n",
            "381\n",
            "stars\n",
            "15\n",
            "that\n",
            "297\n",
            "play\n",
            "98\n",
            "them\n",
            "32\n",
            "all\n",
            "2071\n",
            "grown\n",
            "56\n",
            "up\n",
            "26\n",
            "are\n",
            "141\n",
            "such\n",
            "6\n",
            "a\n",
            "194\n",
            "big\n",
            "7486\n",
            "profile\n",
            "18\n",
            "for\n",
            "4\n",
            "the\n",
            "226\n",
            "whole\n",
            "22\n",
            "film\n",
            "21\n",
            "but\n",
            "134\n",
            "these\n",
            "476\n",
            "children\n",
            "26\n",
            "are\n",
            "480\n",
            "amazing\n",
            "5\n",
            "and\n",
            "144\n",
            "should\n",
            "30\n",
            "be\n",
            "5535\n",
            "praised\n",
            "18\n",
            "for\n",
            "51\n",
            "what\n",
            "36\n",
            "they\n",
            "28\n",
            "have\n",
            "224\n",
            "done\n",
            "92\n",
            "don't\n",
            "25\n",
            "you\n",
            "104\n",
            "think\n",
            "4\n",
            "the\n",
            "226\n",
            "whole\n",
            "65\n",
            "story\n",
            "16\n",
            "was\n",
            "38\n",
            "so\n",
            "1334\n",
            "lovely\n",
            "88\n",
            "because\n",
            "12\n",
            "it\n",
            "16\n",
            "was\n",
            "283\n",
            "true\n",
            "5\n",
            "and\n",
            "16\n",
            "was\n",
            "4472\n",
            "someone's\n",
            "113\n",
            "life\n",
            "103\n",
            "after\n",
            "32\n",
            "all\n",
            "15\n",
            "that\n",
            "16\n",
            "was\n",
            "5345\n",
            "shared\n",
            "19\n",
            "with\n",
            "178\n",
            "us\n",
            "32\n",
            "all\n"
          ],
          "name": "stdout"
        }
      ]
    },
    {
      "cell_type": "code",
      "metadata": {
        "colab": {
          "base_uri": "https://localhost:8080/"
        },
        "id": "ofeIKsbeLcd0",
        "outputId": "5ac7a3f0-f7db-4a4a-b836-ecd0ad334415"
      },
      "source": [
        "li = []\n",
        "for i in train_data[0]:\n",
        "  print(i)\n",
        "  print(reverse_word_index.get(i-3 , '?'))"
      ],
      "execution_count": null,
      "outputs": [
        {
          "output_type": "stream",
          "text": [
            "1\n",
            "?\n",
            "14\n",
            "this\n",
            "22\n",
            "film\n",
            "16\n",
            "was\n",
            "43\n",
            "just\n",
            "530\n",
            "brilliant\n",
            "973\n",
            "casting\n",
            "1622\n",
            "location\n",
            "1385\n",
            "scenery\n",
            "65\n",
            "story\n",
            "458\n",
            "direction\n",
            "4468\n",
            "everyone's\n",
            "66\n",
            "really\n",
            "3941\n",
            "suited\n",
            "4\n",
            "the\n",
            "173\n",
            "part\n",
            "36\n",
            "they\n",
            "256\n",
            "played\n",
            "5\n",
            "and\n",
            "25\n",
            "you\n",
            "100\n",
            "could\n",
            "43\n",
            "just\n",
            "838\n",
            "imagine\n",
            "112\n",
            "being\n",
            "50\n",
            "there\n",
            "670\n",
            "robert\n",
            "2\n",
            "?\n",
            "9\n",
            "is\n",
            "35\n",
            "an\n",
            "480\n",
            "amazing\n",
            "284\n",
            "actor\n",
            "5\n",
            "and\n",
            "150\n",
            "now\n",
            "4\n",
            "the\n",
            "172\n",
            "same\n",
            "112\n",
            "being\n",
            "167\n",
            "director\n",
            "2\n",
            "?\n",
            "336\n",
            "father\n",
            "385\n",
            "came\n",
            "39\n",
            "from\n",
            "4\n",
            "the\n",
            "172\n",
            "same\n",
            "4536\n",
            "scottish\n",
            "1111\n",
            "island\n",
            "17\n",
            "as\n",
            "546\n",
            "myself\n",
            "38\n",
            "so\n",
            "13\n",
            "i\n",
            "447\n",
            "loved\n",
            "4\n",
            "the\n",
            "192\n",
            "fact\n",
            "50\n",
            "there\n",
            "16\n",
            "was\n",
            "6\n",
            "a\n",
            "147\n",
            "real\n",
            "2025\n",
            "connection\n",
            "19\n",
            "with\n",
            "14\n",
            "this\n",
            "22\n",
            "film\n",
            "4\n",
            "the\n",
            "1920\n",
            "witty\n",
            "4613\n",
            "remarks\n",
            "469\n",
            "throughout\n",
            "4\n",
            "the\n",
            "22\n",
            "film\n",
            "71\n",
            "were\n",
            "87\n",
            "great\n",
            "12\n",
            "it\n",
            "16\n",
            "was\n",
            "43\n",
            "just\n",
            "530\n",
            "brilliant\n",
            "38\n",
            "so\n",
            "76\n",
            "much\n",
            "15\n",
            "that\n",
            "13\n",
            "i\n",
            "1247\n",
            "bought\n",
            "4\n",
            "the\n",
            "22\n",
            "film\n",
            "17\n",
            "as\n",
            "515\n",
            "soon\n",
            "17\n",
            "as\n",
            "12\n",
            "it\n",
            "16\n",
            "was\n",
            "626\n",
            "released\n",
            "18\n",
            "for\n",
            "2\n",
            "?\n",
            "5\n",
            "and\n",
            "62\n",
            "would\n",
            "386\n",
            "recommend\n",
            "12\n",
            "it\n",
            "8\n",
            "to\n",
            "316\n",
            "everyone\n",
            "8\n",
            "to\n",
            "106\n",
            "watch\n",
            "5\n",
            "and\n",
            "4\n",
            "the\n",
            "2223\n",
            "fly\n",
            "5244\n",
            "fishing\n",
            "16\n",
            "was\n",
            "480\n",
            "amazing\n",
            "66\n",
            "really\n",
            "3785\n",
            "cried\n",
            "33\n",
            "at\n",
            "4\n",
            "the\n",
            "130\n",
            "end\n",
            "12\n",
            "it\n",
            "16\n",
            "was\n",
            "38\n",
            "so\n",
            "619\n",
            "sad\n",
            "5\n",
            "and\n",
            "25\n",
            "you\n",
            "124\n",
            "know\n",
            "51\n",
            "what\n",
            "36\n",
            "they\n",
            "135\n",
            "say\n",
            "48\n",
            "if\n",
            "25\n",
            "you\n",
            "1415\n",
            "cry\n",
            "33\n",
            "at\n",
            "6\n",
            "a\n",
            "22\n",
            "film\n",
            "12\n",
            "it\n",
            "215\n",
            "must\n",
            "28\n",
            "have\n",
            "77\n",
            "been\n",
            "52\n",
            "good\n",
            "5\n",
            "and\n",
            "14\n",
            "this\n",
            "407\n",
            "definitely\n",
            "16\n",
            "was\n",
            "82\n",
            "also\n",
            "2\n",
            "?\n",
            "8\n",
            "to\n",
            "4\n",
            "the\n",
            "107\n",
            "two\n",
            "117\n",
            "little\n",
            "5952\n",
            "boy's\n",
            "15\n",
            "that\n",
            "256\n",
            "played\n",
            "4\n",
            "the\n",
            "2\n",
            "?\n",
            "7\n",
            "of\n",
            "3766\n",
            "norman\n",
            "5\n",
            "and\n",
            "723\n",
            "paul\n",
            "36\n",
            "they\n",
            "71\n",
            "were\n",
            "43\n",
            "just\n",
            "530\n",
            "brilliant\n",
            "476\n",
            "children\n",
            "26\n",
            "are\n",
            "400\n",
            "often\n",
            "317\n",
            "left\n",
            "46\n",
            "out\n",
            "7\n",
            "of\n",
            "4\n",
            "the\n",
            "2\n",
            "?\n",
            "1029\n",
            "list\n",
            "13\n",
            "i\n",
            "104\n",
            "think\n",
            "88\n",
            "because\n",
            "4\n",
            "the\n",
            "381\n",
            "stars\n",
            "15\n",
            "that\n",
            "297\n",
            "play\n",
            "98\n",
            "them\n",
            "32\n",
            "all\n",
            "2071\n",
            "grown\n",
            "56\n",
            "up\n",
            "26\n",
            "are\n",
            "141\n",
            "such\n",
            "6\n",
            "a\n",
            "194\n",
            "big\n",
            "7486\n",
            "profile\n",
            "18\n",
            "for\n",
            "4\n",
            "the\n",
            "226\n",
            "whole\n",
            "22\n",
            "film\n",
            "21\n",
            "but\n",
            "134\n",
            "these\n",
            "476\n",
            "children\n",
            "26\n",
            "are\n",
            "480\n",
            "amazing\n",
            "5\n",
            "and\n",
            "144\n",
            "should\n",
            "30\n",
            "be\n",
            "5535\n",
            "praised\n",
            "18\n",
            "for\n",
            "51\n",
            "what\n",
            "36\n",
            "they\n",
            "28\n",
            "have\n",
            "224\n",
            "done\n",
            "92\n",
            "don't\n",
            "25\n",
            "you\n",
            "104\n",
            "think\n",
            "4\n",
            "the\n",
            "226\n",
            "whole\n",
            "65\n",
            "story\n",
            "16\n",
            "was\n",
            "38\n",
            "so\n",
            "1334\n",
            "lovely\n",
            "88\n",
            "because\n",
            "12\n",
            "it\n",
            "16\n",
            "was\n",
            "283\n",
            "true\n",
            "5\n",
            "and\n",
            "16\n",
            "was\n",
            "4472\n",
            "someone's\n",
            "113\n",
            "life\n",
            "103\n",
            "after\n",
            "32\n",
            "all\n",
            "15\n",
            "that\n",
            "16\n",
            "was\n",
            "5345\n",
            "shared\n",
            "19\n",
            "with\n",
            "178\n",
            "us\n",
            "32\n",
            "all\n"
          ],
          "name": "stdout"
        }
      ]
    },
    {
      "cell_type": "code",
      "metadata": {
        "id": "uwfxL0odNvwO",
        "colab": {
          "base_uri": "https://localhost:8080/"
        },
        "outputId": "bf578757-8ac0-4515-ae60-9afc0f26452f"
      },
      "source": [
        "len(train_data[0]) #10000 -218 = 9782"
      ],
      "execution_count": 22,
      "outputs": [
        {
          "output_type": "execute_result",
          "data": {
            "text/plain": [
              "218"
            ]
          },
          "metadata": {
            "tags": []
          },
          "execution_count": 22
        }
      ]
    },
    {
      "cell_type": "code",
      "metadata": {
        "colab": {
          "base_uri": "https://localhost:8080/"
        },
        "id": "eVl4TQo2LPA0",
        "outputId": "47e153b4-f035-48f6-9627-e4414d8f3dd7"
      },
      "source": [
        "for k,v in word_index.items():\n",
        "  if v in [0,1,2,3,4,5,6,7,8,9] :\n",
        "    print(k,v)\n",
        "\n",
        "# print(word_index['0'])"
      ],
      "execution_count": null,
      "outputs": [
        {
          "output_type": "stream",
          "text": [
            "it 9\n",
            "is 6\n",
            "in 8\n",
            "of 4\n",
            "a 3\n",
            "br 7\n",
            "the 1\n",
            "and 2\n",
            "to 5\n"
          ],
          "name": "stdout"
        }
      ]
    },
    {
      "cell_type": "code",
      "metadata": {
        "colab": {
          "base_uri": "https://localhost:8080/"
        },
        "id": "kgv-XZsVeuuo",
        "outputId": "52040056-221f-41f0-a946-8d3060a6d4dc"
      },
      "source": [
        "for k,v in reverse_word_index.items():\n",
        "  if k in [0,1,2] :\n",
        "    print(k,v)"
      ],
      "execution_count": null,
      "outputs": [
        {
          "output_type": "stream",
          "text": [
            "1 the\n",
            "2 and\n"
          ],
          "name": "stdout"
        }
      ]
    },
    {
      "cell_type": "code",
      "metadata": {
        "id": "SP1FNGN-SDZs"
      },
      "source": [
        ""
      ],
      "execution_count": null,
      "outputs": []
    },
    {
      "cell_type": "code",
      "metadata": {
        "colab": {
          "base_uri": "https://localhost:8080/",
          "height": 156
        },
        "id": "Qhyi1RuAKgk7",
        "outputId": "af733941-1b8b-4057-fb0c-98339346971a"
      },
      "source": [
        "decoded_review"
      ],
      "execution_count": null,
      "outputs": [
        {
          "output_type": "execute_result",
          "data": {
            "application/vnd.google.colaboratory.intrinsic+json": {
              "type": "string"
            },
            "text/plain": [
              "\"? this film was just brilliant casting location scenery story direction everyone's really suited the part they played and you could just imagine being there robert ? is an amazing actor and now the same being director ? father came from the same scottish island as myself so i loved the fact there was a real connection with this film the witty remarks throughout the film were great it was just brilliant so much that i bought the film as soon as it was released for ? and would recommend it to everyone to watch and the fly fishing was amazing really cried at the end it was so sad and you know what they say if you cry at a film it must have been good and this definitely was also ? to the two little boy's that played the ? of norman and paul they were just brilliant children are often left out of the ? list i think because the stars that play them all grown up are such a big profile for the whole film but these children are amazing and should be praised for what they have done don't you think the whole story was so lovely because it was true and was someone's life after all that was shared with us all\""
            ]
          },
          "metadata": {
            "tags": []
          },
          "execution_count": 14
        }
      ]
    },
    {
      "cell_type": "code",
      "metadata": {
        "colab": {
          "base_uri": "https://localhost:8080/"
        },
        "id": "jttmeZBEoMCg",
        "outputId": "8c2bb6ae-44de-43be-9472-65bbe2287f70"
      },
      "source": [
        "import numpy as np\n",
        "test = np.zeros((10,8))\n",
        "test"
      ],
      "execution_count": 17,
      "outputs": [
        {
          "output_type": "execute_result",
          "data": {
            "text/plain": [
              "array([[0., 0., 0., 0., 0., 0., 0., 0.],\n",
              "       [0., 0., 0., 0., 0., 0., 0., 0.],\n",
              "       [0., 0., 0., 0., 0., 0., 0., 0.],\n",
              "       [0., 0., 0., 0., 0., 0., 0., 0.],\n",
              "       [0., 0., 0., 0., 0., 0., 0., 0.],\n",
              "       [0., 0., 0., 0., 0., 0., 0., 0.],\n",
              "       [0., 0., 0., 0., 0., 0., 0., 0.],\n",
              "       [0., 0., 0., 0., 0., 0., 0., 0.],\n",
              "       [0., 0., 0., 0., 0., 0., 0., 0.],\n",
              "       [0., 0., 0., 0., 0., 0., 0., 0.]])"
            ]
          },
          "metadata": {
            "tags": []
          },
          "execution_count": 17
        }
      ]
    },
    {
      "cell_type": "code",
      "metadata": {
        "id": "I9Bk69SJXzg_"
      },
      "source": [
        "t = np.arange(1,11,1).reshape(2,5)"
      ],
      "execution_count": 18,
      "outputs": []
    },
    {
      "cell_type": "code",
      "metadata": {
        "colab": {
          "base_uri": "https://localhost:8080/"
        },
        "id": "856ha3KLYJxi",
        "outputId": "7ad4ba87-308d-48f5-b540-57a5504ff3aa"
      },
      "source": [
        "t"
      ],
      "execution_count": 19,
      "outputs": [
        {
          "output_type": "execute_result",
          "data": {
            "text/plain": [
              "array([[ 1,  2,  3,  4,  5],\n",
              "       [ 6,  7,  8,  9, 10]])"
            ]
          },
          "metadata": {
            "tags": []
          },
          "execution_count": 19
        }
      ]
    },
    {
      "cell_type": "code",
      "metadata": {
        "id": "Ma-xKegMYMQs"
      },
      "source": [
        "test[0,[ 1,  2,  3,  4,  5]] = 2"
      ],
      "execution_count": 20,
      "outputs": []
    },
    {
      "cell_type": "code",
      "metadata": {
        "colab": {
          "base_uri": "https://localhost:8080/"
        },
        "id": "t7qZsNofYYh8",
        "outputId": "6257c813-2aaa-4f5c-c803-67690ee613d4"
      },
      "source": [
        "test"
      ],
      "execution_count": 21,
      "outputs": [
        {
          "output_type": "execute_result",
          "data": {
            "text/plain": [
              "array([[0., 2., 2., 2., 2., 2., 0., 0.],\n",
              "       [0., 0., 0., 0., 0., 0., 0., 0.],\n",
              "       [0., 0., 0., 0., 0., 0., 0., 0.],\n",
              "       [0., 0., 0., 0., 0., 0., 0., 0.],\n",
              "       [0., 0., 0., 0., 0., 0., 0., 0.],\n",
              "       [0., 0., 0., 0., 0., 0., 0., 0.],\n",
              "       [0., 0., 0., 0., 0., 0., 0., 0.],\n",
              "       [0., 0., 0., 0., 0., 0., 0., 0.],\n",
              "       [0., 0., 0., 0., 0., 0., 0., 0.],\n",
              "       [0., 0., 0., 0., 0., 0., 0., 0.]])"
            ]
          },
          "metadata": {
            "tags": []
          },
          "execution_count": 21
        }
      ]
    },
    {
      "cell_type": "code",
      "metadata": {
        "id": "PepNgTR7mzYG"
      },
      "source": [
        "import numpy as np\n",
        "def vectorize_sequences(sequences, dimension=10000):\n",
        "  results = np.zeros((len(sequences), dimension))  #(25000, 10000)\n",
        "  for i, seq in enumerate(sequences):\n",
        "#    print(i , seq)  \n",
        "    results[i, seq] = 1.\n",
        "  return results\n",
        "x_train = vectorize_sequences(train_data)\n",
        "x_test = vectorize_sequences(test_data)\n"
      ],
      "execution_count": 23,
      "outputs": []
    },
    {
      "cell_type": "code",
      "metadata": {
        "colab": {
          "base_uri": "https://localhost:8080/"
        },
        "id": "NGvDbgRc4TQW",
        "outputId": "2f7dc363-7c7b-45a6-e768-c5583f7fccde"
      },
      "source": [
        "x_train"
      ],
      "execution_count": null,
      "outputs": [
        {
          "output_type": "execute_result",
          "data": {
            "text/plain": [
              "array([[0., 1., 1., ..., 0., 0., 0.],\n",
              "       [0., 1., 1., ..., 0., 0., 0.],\n",
              "       [0., 1., 1., ..., 0., 0., 0.],\n",
              "       ...,\n",
              "       [0., 1., 1., ..., 0., 0., 0.],\n",
              "       [0., 1., 1., ..., 0., 0., 0.],\n",
              "       [0., 1., 1., ..., 0., 0., 0.]])"
            ]
          },
          "metadata": {
            "tags": []
          },
          "execution_count": 17
        }
      ]
    },
    {
      "cell_type": "code",
      "metadata": {
        "colab": {
          "base_uri": "https://localhost:8080/"
        },
        "id": "Tk7BPazV45cf",
        "outputId": "498d8557-cce2-4a24-f217-8ce483eecb9a"
      },
      "source": [
        "x_train.shape"
      ],
      "execution_count": 67,
      "outputs": [
        {
          "output_type": "execute_result",
          "data": {
            "text/plain": [
              "(25000, 10000)"
            ]
          },
          "metadata": {
            "tags": []
          },
          "execution_count": 67
        }
      ]
    },
    {
      "cell_type": "code",
      "metadata": {
        "colab": {
          "base_uri": "https://localhost:8080/"
        },
        "id": "9X5AQAWcm_JM",
        "outputId": "d77cf179-d38b-41bf-dd2d-6d378f088ce0"
      },
      "source": [
        "len(train_data) # (25000 , 10000 ) "
      ],
      "execution_count": null,
      "outputs": [
        {
          "output_type": "execute_result",
          "data": {
            "text/plain": [
              "25000"
            ]
          },
          "metadata": {
            "tags": []
          },
          "execution_count": 19
        }
      ]
    },
    {
      "cell_type": "code",
      "metadata": {
        "id": "63S1-mTbnG-d"
      },
      "source": [
        ""
      ],
      "execution_count": null,
      "outputs": []
    },
    {
      "cell_type": "code",
      "metadata": {
        "colab": {
          "base_uri": "https://localhost:8080/"
        },
        "id": "lToDyg-SnOX1",
        "outputId": "0e07cf85-f174-49b0-9f1c-8e6438bbd1a1"
      },
      "source": [
        "max([len(x) for x in x_train])"
      ],
      "execution_count": 68,
      "outputs": [
        {
          "output_type": "execute_result",
          "data": {
            "text/plain": [
              "10000"
            ]
          },
          "metadata": {
            "tags": []
          },
          "execution_count": 68
        }
      ]
    },
    {
      "cell_type": "code",
      "metadata": {
        "colab": {
          "base_uri": "https://localhost:8080/"
        },
        "id": "Cchnn2eEnjr_",
        "outputId": "42dcb070-f2dc-4c24-aeb2-3bd427bb8b49"
      },
      "source": [
        "min([len(x) for x in x_train])"
      ],
      "execution_count": 69,
      "outputs": [
        {
          "output_type": "execute_result",
          "data": {
            "text/plain": [
              "10000"
            ]
          },
          "metadata": {
            "tags": []
          },
          "execution_count": 69
        }
      ]
    },
    {
      "cell_type": "code",
      "metadata": {
        "colab": {
          "base_uri": "https://localhost:8080/"
        },
        "id": "Sjrx4y9FnqOA",
        "outputId": "2dbed90e-210b-4a93-bc8a-943ae6c603e2"
      },
      "source": [
        "x_train.dtype"
      ],
      "execution_count": 70,
      "outputs": [
        {
          "output_type": "execute_result",
          "data": {
            "text/plain": [
              "dtype('float64')"
            ]
          },
          "metadata": {
            "tags": []
          },
          "execution_count": 70
        }
      ]
    },
    {
      "cell_type": "code",
      "metadata": {
        "colab": {
          "base_uri": "https://localhost:8080/"
        },
        "id": "ZKcf9DEeoLKe",
        "outputId": "269269df-87d8-4beb-d757-f8d10b7ba3aa"
      },
      "source": [
        "train_labels[0:20]"
      ],
      "execution_count": null,
      "outputs": [
        {
          "output_type": "execute_result",
          "data": {
            "text/plain": [
              "array([1, 0, 0, 1, 0, 0, 1, 0, 1, 0, 1, 0, 0, 0, 0, 0, 1, 1, 0, 1])"
            ]
          },
          "metadata": {
            "tags": []
          },
          "execution_count": 23
        }
      ]
    },
    {
      "cell_type": "code",
      "metadata": {
        "id": "qtRVqeqHooUT"
      },
      "source": [
        "y_train = np.asarray(train_labels).astype('float32')\n",
        "y_test = np.asarray(test_labels).astype('float32')"
      ],
      "execution_count": 71,
      "outputs": []
    },
    {
      "cell_type": "code",
      "metadata": {
        "id": "F1vVA-yLofJb"
      },
      "source": [
        "from keras import models\n",
        "from keras import layers\n",
        "model = models.Sequential()\n",
        "model.add(layers.Dense(16, activation='relu', input_shape=(10000,)))\n",
        "model.add(layers.Dense(16, activation='relu'))\n",
        "model.add(layers.Dense(1, activation='sigmoid'))"
      ],
      "execution_count": 72,
      "outputs": []
    },
    {
      "cell_type": "code",
      "metadata": {
        "id": "iXp3clAyNi1P"
      },
      "source": [
        "# from keras import optimizers\n",
        "# model.compile(optimizer=optimizers.RMSprop(lr=0.001),loss='binary_crossentropy',metrics=['accuracy'])"
      ],
      "execution_count": null,
      "outputs": []
    },
    {
      "cell_type": "code",
      "metadata": {
        "id": "MiyyI05iP2rM"
      },
      "source": [
        "x_val = x_train[:10000]\n",
        "partial_x_train = x_train[10000:] \n",
        "y_val = y_train[:10000]\n",
        "partial_y_train = y_train[10000:]"
      ],
      "execution_count": 73,
      "outputs": []
    },
    {
      "cell_type": "code",
      "metadata": {
        "colab": {
          "base_uri": "https://localhost:8080/"
        },
        "id": "6Hj45uoMPlA9",
        "outputId": "f7eb6cbf-2715-4add-dd2f-c54c120010f8"
      },
      "source": [
        "from keras import optimizers\n",
        "model.compile(optimizer='rmsprop',loss='binary_crossentropy',metrics=['acc'])\n",
        "history = model.fit(partial_x_train,partial_y_train,epochs=20,batch_size=512,validation_data=(x_val, y_val))"
      ],
      "execution_count": 74,
      "outputs": [
        {
          "output_type": "stream",
          "text": [
            "Epoch 1/20\n",
            "30/30 [==============================] - 4s 97ms/step - loss: 0.5986 - acc: 0.6995 - val_loss: 0.3986 - val_acc: 0.8607\n",
            "Epoch 2/20\n",
            "30/30 [==============================] - 1s 32ms/step - loss: 0.3308 - acc: 0.8986 - val_loss: 0.3060 - val_acc: 0.8871\n",
            "Epoch 3/20\n",
            "30/30 [==============================] - 1s 33ms/step - loss: 0.2281 - acc: 0.9300 - val_loss: 0.2878 - val_acc: 0.8855\n",
            "Epoch 4/20\n",
            "30/30 [==============================] - 1s 32ms/step - loss: 0.1787 - acc: 0.9434 - val_loss: 0.3109 - val_acc: 0.8726\n",
            "Epoch 5/20\n",
            "30/30 [==============================] - 1s 32ms/step - loss: 0.1467 - acc: 0.9538 - val_loss: 0.2798 - val_acc: 0.8897\n",
            "Epoch 6/20\n",
            "30/30 [==============================] - 1s 32ms/step - loss: 0.1214 - acc: 0.9657 - val_loss: 0.3035 - val_acc: 0.8846\n",
            "Epoch 7/20\n",
            "30/30 [==============================] - 1s 33ms/step - loss: 0.0989 - acc: 0.9734 - val_loss: 0.3595 - val_acc: 0.8688\n",
            "Epoch 8/20\n",
            "30/30 [==============================] - 1s 32ms/step - loss: 0.0845 - acc: 0.9778 - val_loss: 0.3315 - val_acc: 0.8781\n",
            "Epoch 9/20\n",
            "30/30 [==============================] - 1s 32ms/step - loss: 0.0648 - acc: 0.9838 - val_loss: 0.3548 - val_acc: 0.8777\n",
            "Epoch 10/20\n",
            "30/30 [==============================] - 1s 33ms/step - loss: 0.0538 - acc: 0.9875 - val_loss: 0.3821 - val_acc: 0.8801\n",
            "Epoch 11/20\n",
            "30/30 [==============================] - 1s 31ms/step - loss: 0.0425 - acc: 0.9902 - val_loss: 0.4080 - val_acc: 0.8768\n",
            "Epoch 12/20\n",
            "30/30 [==============================] - 1s 32ms/step - loss: 0.0358 - acc: 0.9934 - val_loss: 0.4826 - val_acc: 0.8693\n",
            "Epoch 13/20\n",
            "30/30 [==============================] - 1s 32ms/step - loss: 0.0284 - acc: 0.9960 - val_loss: 0.4764 - val_acc: 0.8747\n",
            "Epoch 14/20\n",
            "30/30 [==============================] - 1s 32ms/step - loss: 0.0215 - acc: 0.9965 - val_loss: 0.5077 - val_acc: 0.8697\n",
            "Epoch 15/20\n",
            "30/30 [==============================] - 1s 32ms/step - loss: 0.0182 - acc: 0.9972 - val_loss: 0.5487 - val_acc: 0.8680\n",
            "Epoch 16/20\n",
            "30/30 [==============================] - 1s 31ms/step - loss: 0.0137 - acc: 0.9984 - val_loss: 0.5811 - val_acc: 0.8675\n",
            "Epoch 17/20\n",
            "30/30 [==============================] - 1s 32ms/step - loss: 0.0100 - acc: 0.9995 - val_loss: 0.6384 - val_acc: 0.8610\n",
            "Epoch 18/20\n",
            "30/30 [==============================] - 1s 32ms/step - loss: 0.0079 - acc: 0.9998 - val_loss: 0.6804 - val_acc: 0.8606\n",
            "Epoch 19/20\n",
            "30/30 [==============================] - 1s 32ms/step - loss: 0.0074 - acc: 0.9992 - val_loss: 0.6852 - val_acc: 0.8668\n",
            "Epoch 20/20\n",
            "30/30 [==============================] - 1s 32ms/step - loss: 0.0047 - acc: 0.9998 - val_loss: 0.7277 - val_acc: 0.8645\n"
          ],
          "name": "stdout"
        }
      ]
    },
    {
      "cell_type": "code",
      "metadata": {
        "id": "YMT2U5uIUs_E"
      },
      "source": [
        ""
      ],
      "execution_count": null,
      "outputs": []
    },
    {
      "cell_type": "code",
      "metadata": {
        "id": "PTv5IOmmRSD-"
      },
      "source": [
        ""
      ],
      "execution_count": null,
      "outputs": []
    },
    {
      "cell_type": "code",
      "metadata": {
        "colab": {
          "base_uri": "https://localhost:8080/"
        },
        "id": "-CmsIZ6ZQr2F",
        "outputId": "cb56c84e-8ebf-4f73-cf28-5175b77e14b1"
      },
      "source": [
        "history_dict = history.history\n",
        "history_dict.keys()\n"
      ],
      "execution_count": 75,
      "outputs": [
        {
          "output_type": "execute_result",
          "data": {
            "text/plain": [
              "dict_keys(['loss', 'acc', 'val_loss', 'val_acc'])"
            ]
          },
          "metadata": {
            "tags": []
          },
          "execution_count": 75
        }
      ]
    },
    {
      "cell_type": "code",
      "metadata": {
        "colab": {
          "base_uri": "https://localhost:8080/",
          "height": 295
        },
        "id": "dBX4hQ_LRS07",
        "outputId": "3bf959cc-c6e4-4edc-bea8-cc1bc0bb6d18"
      },
      "source": [
        "import matplotlib.pyplot as plt\n",
        "history_dict = history.history\n",
        "loss_values = history_dict['loss']\n",
        "acc = history.history['acc']\n",
        "val_loss_values = history_dict['val_loss']\n",
        "epochs = range(1, len(acc) + 1)\n",
        "plt.plot(epochs, loss_values, 'bo', label='Training loss')\n",
        "plt.plot(epochs, val_loss_values, 'b', label='Validation loss')\n",
        "plt.title('Training and validation loss')\n",
        "plt.xlabel('Epochs')\n",
        "plt.ylabel('Loss')\n",
        "plt.legend()\n",
        "plt.show()"
      ],
      "execution_count": 77,
      "outputs": [
        {
          "output_type": "display_data",
          "data": {
            "image/png": "[encoded data removed]",
            "text/plain": [
              "<Figure size 432x288 with 1 Axes>"
            ]
          },
          "metadata": {
            "tags": [],
            "needs_background": "light"
          }
        }
      ]
    },
    {
      "cell_type": "code",
      "metadata": {
        "colab": {
          "base_uri": "https://localhost:8080/",
          "height": 295
        },
        "id": "9hd9nTIOTNiq",
        "outputId": "54f47222-8ab4-44b8-91f8-b92b80117e9b"
      },
      "source": [
        "plt.clf()\n",
        "acc_values = history_dict['acc']\n",
        "val_acc = history_dict['val_acc']\n",
        "plt.plot(epochs, acc, 'bo', label='Training acc')\n",
        "plt.plot(epochs, val_acc, 'b', label='Validation acc')\n",
        "plt.title('Training and validation accuracy')\n",
        "plt.xlabel('Epochs')\n",
        "plt.ylabel('Loss')\n",
        "plt.legend()\n",
        "plt.show()"
      ],
      "execution_count": 79,
      "outputs": [
        {
          "output_type": "display_data",
          "data": {
            "image/png": "[encoded data removed]",
            "text/plain": [
              "<Figure size 432x288 with 1 Axes>"
            ]
          },
          "metadata": {
            "tags": [],
            "needs_background": "light"
          }
        }
      ]
    },
    {
      "cell_type": "code",
      "metadata": {
        "colab": {
          "base_uri": "https://localhost:8080/"
        },
        "id": "Gam3LOuQUJww",
        "outputId": "43db58a7-9c78-47d9-c778-775516db82e0"
      },
      "source": [
        "model = models.Sequential()\n",
        "model.add(layers.Dense(16, activation='relu', input_shape=(10000,)))\n",
        "model.add(layers.Dense(16, activation='relu'))\n",
        "model.add(layers.Dense(1, activation='sigmoid'))\n",
        "model.compile(optimizer='rmsprop',\n",
        "loss='binary_crossentropy',\n",
        "metrics=['accuracy'])\n",
        "model.fit(x_train, y_train, epochs=4, batch_size=512)\n",
        "results = model.evaluate(x_test, y_test)"
      ],
      "execution_count": 80,
      "outputs": [
        {
          "output_type": "stream",
          "text": [
            "Epoch 1/4\n",
            "49/49 [==============================] - 2s 25ms/step - loss: 0.5487 - accuracy: 0.7444\n",
            "Epoch 2/4\n",
            "49/49 [==============================] - 1s 27ms/step - loss: 0.2715 - accuracy: 0.9110\n",
            "Epoch 3/4\n",
            "49/49 [==============================] - 1s 25ms/step - loss: 0.2008 - accuracy: 0.9337\n",
            "Epoch 4/4\n",
            "49/49 [==============================] - 1s 26ms/step - loss: 0.1727 - accuracy: 0.9402\n",
            "782/782 [==============================] - 1s 2ms/step - loss: 0.2958 - accuracy: 0.8832\n"
          ],
          "name": "stdout"
        }
      ]
    },
    {
      "cell_type": "code",
      "metadata": {
        "id": "d3JQcNmvUuqI"
      },
      "source": [
        "y = np.round(np.clip(model.predict(x_test), 0, 1))"
      ],
      "execution_count": 85,
      "outputs": []
    },
    {
      "cell_type": "code",
      "metadata": {
        "colab": {
          "base_uri": "https://localhost:8080/"
        },
        "id": "hWLuo5tmXupQ",
        "outputId": "cf9f4ae6-d9fb-4025-b537-d203ff25d5fd"
      },
      "source": [
        "y_test[0:20].sum()"
      ],
      "execution_count": 89,
      "outputs": [
        {
          "output_type": "execute_result",
          "data": {
            "text/plain": [
              "9.0"
            ]
          },
          "metadata": {
            "tags": []
          },
          "execution_count": 89
        }
      ]
    },
    {
      "cell_type": "code",
      "metadata": {
        "colab": {
          "base_uri": "https://localhost:8080/"
        },
        "id": "7dx1XOLvXz5k",
        "outputId": "e1f25b61-df12-47a4-f1cf-9698684e2181"
      },
      "source": [
        "y[0:20].sum()"
      ],
      "execution_count": 90,
      "outputs": [
        {
          "output_type": "execute_result",
          "data": {
            "text/plain": [
              "12.0"
            ]
          },
          "metadata": {
            "tags": []
          },
          "execution_count": 90
        }
      ]
    },
    {
      "cell_type": "code",
      "metadata": {
        "id": "pP5dIKxZYNOz"
      },
      "source": [
        "import tensorflow as tf\n",
        "con = tf.math.confusion_matrix(labels= y_test, predictions=y )"
      ],
      "execution_count": 93,
      "outputs": []
    },
    {
      "cell_type": "code",
      "metadata": {
        "colab": {
          "base_uri": "https://localhost:8080/"
        },
        "id": "hRiMsdNvYrFK",
        "outputId": "813cce9c-52a8-4664-a994-de8bd85375f6"
      },
      "source": [
        "con"
      ],
      "execution_count": 94,
      "outputs": [
        {
          "output_type": "execute_result",
          "data": {
            "text/plain": [
              "<tf.Tensor: shape=(2, 2), dtype=int32, numpy=\n",
              "array([[11300,  1200],\n",
              "       [ 1721, 10779]], dtype=int32)>"
            ]
          },
          "metadata": {
            "tags": []
          },
          "execution_count": 94
        }
      ]
    },
    {
      "cell_type": "code",
      "metadata": {
        "colab": {
          "base_uri": "https://localhost:8080/"
        },
        "id": "xYweM8RWZHYs",
        "outputId": "b97963bd-5c99-4b68-f97d-379ffb63374b"
      },
      "source": [
        "len(y_test)"
      ],
      "execution_count": 95,
      "outputs": [
        {
          "output_type": "execute_result",
          "data": {
            "text/plain": [
              "25000"
            ]
          },
          "metadata": {
            "tags": []
          },
          "execution_count": 95
        }
      ]
    },
    {
      "cell_type": "code",
      "metadata": {
        "colab": {
          "base_uri": "https://localhost:8080/"
        },
        "id": "8UF9y2axZSk8",
        "outputId": "103ca6ee-5c2f-4e27-ad97-18b1a8fcd2a9"
      },
      "source": [
        "len(y)"
      ],
      "execution_count": 96,
      "outputs": [
        {
          "output_type": "execute_result",
          "data": {
            "text/plain": [
              "25000"
            ]
          },
          "metadata": {
            "tags": []
          },
          "execution_count": 96
        }
      ]
    }
  ]
}